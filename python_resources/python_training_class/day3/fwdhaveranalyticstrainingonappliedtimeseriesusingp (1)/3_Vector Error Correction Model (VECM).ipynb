{
 "cells": [
  {
   "cell_type": "markdown",
   "metadata": {},
   "source": [
    "## Vector Error Correction Model (VECM)\n",
    "\n",
    "If 2 (or more) time series are non-stationary, there may be a linear combination of the 2 that is stationary. Otherwise known as 2 variables being cointegrated. If they are indeed cointegrated, we can estimate an error correction model. A vector error correction model (VECM) is an augmented VAR in first differences. Augmented by the error-correction term. "
   ]
  },
  {
   "cell_type": "code",
   "execution_count": 3,
   "metadata": {},
   "outputs": [],
   "source": [
    "import Haver\n",
    "import matplotlib.pyplot as plt\n",
    "%matplotlib inline\n",
    "import numpy as np\n",
    "import pandas as pd\n",
    "import statsmodels.api as sm\n",
    "from statsmodels.tsa.api import VAR\n",
    "from statsmodels.tsa.base.datetools import dates_from_str\n",
    "from statsmodels.tsa.api import VECM\n",
    "from statsmodels.tsa.api import coint\n",
    "from statsmodels.tsa.stattools import adfuller\n",
    "from statsmodels.tsa.stattools import acf, pacf\n",
    "from statsmodels.graphics.tsaplots import plot_acf, plot_pacf\n",
    "from statsmodels.stats.diagnostic import acorr_ljungbox as lb"
   ]
  },
  {
   "cell_type": "code",
   "execution_count": 4,
   "metadata": {},
   "outputs": [
    {
     "data": {
      "text/plain": [
       "'R:\\\\\\\\'"
      ]
     },
     "execution_count": 4,
     "metadata": {},
     "output_type": "execute_result"
    }
   ],
   "source": [
    "Haver.path()"
   ]
  },
  {
   "cell_type": "code",
   "execution_count": 5,
   "metadata": {},
   "outputs": [],
   "source": [
    "Haver.path(\"C:\\\\Users\\\\RNAMG01\\\\Desktop\\\\python haver training\\\\US1PLUS\\\\\")"
   ]
  },
  {
   "cell_type": "code",
   "execution_count": 6,
   "metadata": {},
   "outputs": [
    {
     "data": {
      "text/plain": [
       "'C:\\\\Users\\\\RNAMG01\\\\Desktop\\\\python haver training\\\\US1PLUS'"
      ]
     },
     "execution_count": 6,
     "metadata": {},
     "output_type": "execute_result"
    }
   ],
   "source": [
    "Haver.path()"
   ]
  },
  {
   "cell_type": "code",
   "execution_count": 7,
   "metadata": {},
   "outputs": [],
   "source": [
    "df=Haver.data(['pcu','pa'], 'us1plus', dates=True)\n",
    "\n"
   ]
  },
  {
   "cell_type": "code",
   "execution_count": 8,
   "metadata": {},
   "outputs": [],
   "source": [
    "df=df.dropna()"
   ]
  },
  {
   "cell_type": "code",
   "execution_count": 9,
   "metadata": {},
   "outputs": [
    {
     "data": {
      "text/html": [
       "<div>\n",
       "<style scoped>\n",
       "    .dataframe tbody tr th:only-of-type {\n",
       "        vertical-align: middle;\n",
       "    }\n",
       "\n",
       "    .dataframe tbody tr th {\n",
       "        vertical-align: top;\n",
       "    }\n",
       "\n",
       "    .dataframe thead th {\n",
       "        text-align: right;\n",
       "    }\n",
       "</style>\n",
       "<table border=\"1\" class=\"dataframe\">\n",
       "  <thead>\n",
       "    <tr style=\"text-align: right;\">\n",
       "      <th></th>\n",
       "      <th>pcu</th>\n",
       "      <th>pa</th>\n",
       "    </tr>\n",
       "  </thead>\n",
       "  <tbody>\n",
       "    <tr>\n",
       "      <th>1947-01-31</th>\n",
       "      <td>21.48</td>\n",
       "      <td>24.5</td>\n",
       "    </tr>\n",
       "    <tr>\n",
       "      <th>1947-02-28</th>\n",
       "      <td>21.62</td>\n",
       "      <td>24.7</td>\n",
       "    </tr>\n",
       "    <tr>\n",
       "      <th>1947-03-31</th>\n",
       "      <td>22.00</td>\n",
       "      <td>25.3</td>\n",
       "    </tr>\n",
       "    <tr>\n",
       "      <th>1947-04-30</th>\n",
       "      <td>22.00</td>\n",
       "      <td>25.1</td>\n",
       "    </tr>\n",
       "    <tr>\n",
       "      <th>1947-05-31</th>\n",
       "      <td>21.95</td>\n",
       "      <td>25.0</td>\n",
       "    </tr>\n",
       "  </tbody>\n",
       "</table>\n",
       "</div>"
      ],
      "text/plain": [
       "              pcu    pa\n",
       "1947-01-31  21.48  24.5\n",
       "1947-02-28  21.62  24.7\n",
       "1947-03-31  22.00  25.3\n",
       "1947-04-30  22.00  25.1\n",
       "1947-05-31  21.95  25.0"
      ]
     },
     "execution_count": 9,
     "metadata": {},
     "output_type": "execute_result"
    }
   ],
   "source": [
    "df.head()"
   ]
  },
  {
   "cell_type": "code",
   "execution_count": 10,
   "metadata": {},
   "outputs": [
    {
     "data": {
      "text/html": [
       "<div>\n",
       "<style scoped>\n",
       "    .dataframe tbody tr th:only-of-type {\n",
       "        vertical-align: middle;\n",
       "    }\n",
       "\n",
       "    .dataframe tbody tr th {\n",
       "        vertical-align: top;\n",
       "    }\n",
       "\n",
       "    .dataframe thead th {\n",
       "        text-align: right;\n",
       "    }\n",
       "</style>\n",
       "<table border=\"1\" class=\"dataframe\">\n",
       "  <thead>\n",
       "    <tr style=\"text-align: right;\">\n",
       "      <th></th>\n",
       "      <th>pcu</th>\n",
       "      <th>pa</th>\n",
       "    </tr>\n",
       "  </thead>\n",
       "  <tbody>\n",
       "    <tr>\n",
       "      <th>2018-07-31</th>\n",
       "      <td>251.286</td>\n",
       "      <td>204.3</td>\n",
       "    </tr>\n",
       "    <tr>\n",
       "      <th>2018-08-31</th>\n",
       "      <td>251.846</td>\n",
       "      <td>203.0</td>\n",
       "    </tr>\n",
       "    <tr>\n",
       "      <th>2018-09-30</th>\n",
       "      <td>251.994</td>\n",
       "      <td>203.2</td>\n",
       "    </tr>\n",
       "    <tr>\n",
       "      <th>2018-10-31</th>\n",
       "      <td>252.827</td>\n",
       "      <td>204.3</td>\n",
       "    </tr>\n",
       "    <tr>\n",
       "      <th>2018-11-30</th>\n",
       "      <td>252.876</td>\n",
       "      <td>201.5</td>\n",
       "    </tr>\n",
       "  </tbody>\n",
       "</table>\n",
       "</div>"
      ],
      "text/plain": [
       "                pcu     pa\n",
       "2018-07-31  251.286  204.3\n",
       "2018-08-31  251.846  203.0\n",
       "2018-09-30  251.994  203.2\n",
       "2018-10-31  252.827  204.3\n",
       "2018-11-30  252.876  201.5"
      ]
     },
     "execution_count": 10,
     "metadata": {},
     "output_type": "execute_result"
    }
   ],
   "source": [
    "df.tail()"
   ]
  },
  {
   "cell_type": "markdown",
   "metadata": {},
   "source": [
    "If you think 2 series might have a long-run relationship it makes sense to take a quick look at their behaviour on a graph."
   ]
  },
  {
   "cell_type": "code",
   "execution_count": 11,
   "metadata": {},
   "outputs": [
    {
     "data": {
      "image/png": "[encoded data removed]",
      "text/plain": [
       "<Figure size 1440x864 with 1 Axes>"
      ]
     },
     "metadata": {},
     "output_type": "display_data"
    }
   ],
   "source": [
    "fig = plt.figure(figsize=(20,12))\n",
    "fig= plt.plot(df, label=['CPI', 'PPI'])\n",
    "plt.xlabel(\"Date\")\n",
    "plt.ylabel(\"YOY % Change\")\n",
    "plt.title('Annual Inflation Rates for U.S. CPI and PPI')\n",
    "plt.legend(['CPI','PPI'], fontsize=\"20\")\n",
    "plt.show()"
   ]
  },
  {
   "cell_type": "markdown",
   "metadata": {},
   "source": [
    "You have learned other techniques to test for stationarity. Both the ACF and Q-Ljung Box test can help."
   ]
  },
  {
   "cell_type": "code",
   "execution_count": 12,
   "metadata": {
    "scrolled": true
   },
   "outputs": [
    {
     "data": {
      "image/png": "[encoded data removed]",
      "text/plain": [
       "<Figure size 432x288 with 1 Axes>"
      ]
     },
     "metadata": {},
     "output_type": "display_data"
    },
    {
     "data": {
      "image/png": "[encoded data removed]",
      "text/plain": [
       "<Figure size 432x288 with 1 Axes>"
      ]
     },
     "metadata": {},
     "output_type": "display_data"
    }
   ],
   "source": [
    "x=plot_acf(df['pcu'], lags=50)\n",
    "y=plot_pacf(df['pcu'], lags=50)"
   ]
  },
  {
   "cell_type": "code",
   "execution_count": 13,
   "metadata": {},
   "outputs": [
    {
     "data": {
      "image/png": "[encoded data removed]",
      "text/plain": [
       "<Figure size 432x288 with 1 Axes>"
      ]
     },
     "metadata": {},
     "output_type": "display_data"
    },
    {
     "data": {
      "image/png": "[encoded data removed]",
      "text/plain": [
       "<Figure size 432x288 with 1 Axes>"
      ]
     },
     "metadata": {},
     "output_type": "display_data"
    }
   ],
   "source": [
    "x=plot_acf(df['pa'], lags=50)\n",
    "y=plot_pacf(df['pa'], lags=50)"
   ]
  },
  {
   "cell_type": "code",
   "execution_count": 14,
   "metadata": {},
   "outputs": [
    {
     "data": {
      "text/plain": [
       "(array([  861.05086185,  1718.11950643,  2571.23319148,  3420.37635498,\n",
       "         4265.55128223,  5106.76089858,  5944.00406535,  6777.28923748,\n",
       "         7606.63441166,  8432.01073881,  9253.41517587, 10070.89761187,\n",
       "        10884.4715265 , 11694.15875067, 12499.94180062, 13301.85880179,\n",
       "        14099.94006067, 14894.1751121 , 15684.55347968, 16471.04523823,\n",
       "        17253.64513924, 18032.31189342, 18807.02479817, 19577.82440634,\n",
       "        20344.72559839]),\n",
       " array([2.878086e-189, 0.000000e+000, 0.000000e+000, 0.000000e+000,\n",
       "        0.000000e+000, 0.000000e+000, 0.000000e+000, 0.000000e+000,\n",
       "        0.000000e+000, 0.000000e+000, 0.000000e+000, 0.000000e+000,\n",
       "        0.000000e+000, 0.000000e+000, 0.000000e+000, 0.000000e+000,\n",
       "        0.000000e+000, 0.000000e+000, 0.000000e+000, 0.000000e+000,\n",
       "        0.000000e+000, 0.000000e+000, 0.000000e+000, 0.000000e+000,\n",
       "        0.000000e+000]))"
      ]
     },
     "execution_count": 14,
     "metadata": {},
     "output_type": "execute_result"
    }
   ],
   "source": [
    "lb(df['pcu'], lags=25, boxpierce=False)"
   ]
  },
  {
   "cell_type": "code",
   "execution_count": 15,
   "metadata": {},
   "outputs": [
    {
     "data": {
      "text/plain": [
       "(array([  861.0054619 ,  1717.56830584,  2569.5849484 ,  3416.96227759,\n",
       "         4259.56684898,  5097.46499276,  5930.7771085 ,  6759.71926045,\n",
       "         7584.39713236,  8404.8674692 ,  9221.20188977, 10033.44293269,\n",
       "        10841.60818555, 11645.73433547, 12445.77695389, 13241.789074  ,\n",
       "        14033.77014871, 14821.72925133, 15605.71422307, 16385.72470341,\n",
       "        17161.84171368, 17934.04353751, 18702.34948114, 19466.9111091 ,\n",
       "        20227.80966635]),\n",
       " array([2.9442431e-189, 0.0000000e+000, 0.0000000e+000, 0.0000000e+000,\n",
       "        0.0000000e+000, 0.0000000e+000, 0.0000000e+000, 0.0000000e+000,\n",
       "        0.0000000e+000, 0.0000000e+000, 0.0000000e+000, 0.0000000e+000,\n",
       "        0.0000000e+000, 0.0000000e+000, 0.0000000e+000, 0.0000000e+000,\n",
       "        0.0000000e+000, 0.0000000e+000, 0.0000000e+000, 0.0000000e+000,\n",
       "        0.0000000e+000, 0.0000000e+000, 0.0000000e+000, 0.0000000e+000,\n",
       "        0.0000000e+000]))"
      ]
     },
     "execution_count": 15,
     "metadata": {},
     "output_type": "execute_result"
    }
   ],
   "source": [
    "lb(df['pa'], lags=25, boxpierce=False)"
   ]
  },
  {
   "cell_type": "markdown",
   "metadata": {},
   "source": [
    "You have now looked at the time series graphically, and tested the autoregressive sructure of the data. We can now formally test for non-stationarity using a unit root test."
   ]
  },
  {
   "cell_type": "code",
   "execution_count": 16,
   "metadata": {},
   "outputs": [
    {
     "name": "stdout",
     "output_type": "stream",
     "text": [
      "ADF Statistic: 1.921065\n",
      "p-value: 0.998561\n",
      "Critical Values:\n",
      "\t1%: -3.438\n",
      "\t5%: -2.865\n",
      "\t10%: -2.569\n"
     ]
    }
   ],
   "source": [
    "result = adfuller(df['pcu'], autolag=\"AIC\")\n",
    "\n",
    "\n",
    "print('ADF Statistic: %f' % result[0])\n",
    "print('p-value: %f' % result[1])\n",
    "print('Critical Values:')\n",
    "for key, value in result[4].items():\n",
    "\tprint('\\t%s: %.3f' % (key, value))"
   ]
  },
  {
   "cell_type": "code",
   "execution_count": 17,
   "metadata": {},
   "outputs": [
    {
     "name": "stdout",
     "output_type": "stream",
     "text": [
      "ADF Statistic: 0.695251\n",
      "p-value: 0.989743\n",
      "Critical Values:\n",
      "\t1%: -3.438\n",
      "\t5%: -2.865\n",
      "\t10%: -2.569\n"
     ]
    }
   ],
   "source": [
    "result = adfuller(df['pa'], autolag=\"AIC\")\n",
    "\n",
    "\n",
    "print('ADF Statistic: %f' % result[0])\n",
    "print('p-value: %f' % result[1])\n",
    "print('Critical Values:')\n",
    "for key, value in result[4].items():\n",
    "\tprint('\\t%s: %.3f' % (key, value))"
   ]
  },
  {
   "cell_type": "markdown",
   "metadata": {},
   "source": [
    "If you conclude that both series have unit roots (are non-stationary), you can test for cointegration statistically using the Engel-Granger Cointegration test."
   ]
  },
  {
   "cell_type": "code",
   "execution_count": 18,
   "metadata": {},
   "outputs": [],
   "source": [
    "eg_test=coint(df['pcu'], df['pa'])"
   ]
  },
  {
   "cell_type": "code",
   "execution_count": 19,
   "metadata": {},
   "outputs": [
    {
     "name": "stdout",
     "output_type": "stream",
     "text": [
      "(-2.217542078054682, 0.41533672008363776, array([-3.90919034, -3.34322747, -3.04937385]))\n"
     ]
    }
   ],
   "source": [
    "print(eg_test)"
   ]
  },
  {
   "cell_type": "markdown",
   "metadata": {},
   "source": [
    "To estimate a VECM model, you need to start by performing lag selection on the underlying VAR."
   ]
  },
  {
   "cell_type": "code",
   "execution_count": 20,
   "metadata": {},
   "outputs": [],
   "source": [
    "model1=VAR(df)"
   ]
  },
  {
   "cell_type": "code",
   "execution_count": 21,
   "metadata": {},
   "outputs": [
    {
     "data": {
      "text/plain": [
       "  Summary of Regression Results   \n",
       "==================================\n",
       "Model:                         VAR\n",
       "Method:                        OLS\n",
       "Date:           Fri, 18, Jan, 2019\n",
       "Time:                     12:10:19\n",
       "--------------------------------------------------------------------\n",
       "No. of Equations:         2.00000    BIC:                   -2.79026\n",
       "Nobs:                     860.000    HQIC:                  -2.83805\n",
       "Log likelihood:          -1193.47    FPE:                  0.0568298\n",
       "AIC:                     -2.86770    Det(Omega_mle):       0.0559158\n",
       "--------------------------------------------------------------------\n",
       "Results for equation pcu\n",
       "=========================================================================\n",
       "            coefficient       std. error           t-stat            prob\n",
       "-------------------------------------------------------------------------\n",
       "const          0.047686         0.024457            1.950           0.051\n",
       "L1.pcu         1.380415         0.046525           29.670           0.000\n",
       "L1.pa          0.067087         0.014701            4.563           0.000\n",
       "L2.pcu        -0.537311         0.073604           -7.300           0.000\n",
       "L2.pa         -0.046415         0.023001           -2.018           0.044\n",
       "L3.pcu         0.155182         0.045491            3.411           0.001\n",
       "L3.pa         -0.017198         0.014715           -1.169           0.243\n",
       "=========================================================================\n",
       "\n",
       "Results for equation pa\n",
       "=========================================================================\n",
       "            coefficient       std. error           t-stat            prob\n",
       "-------------------------------------------------------------------------\n",
       "const          0.180496         0.077235            2.337           0.019\n",
       "L1.pcu         0.284239         0.146924            1.935           0.053\n",
       "L1.pa          1.312491         0.046426           28.271           0.000\n",
       "L2.pcu        -0.794395         0.232438           -3.418           0.001\n",
       "L2.pa         -0.081774         0.072636           -1.126           0.260\n",
       "L3.pcu         0.517066         0.143657            3.599           0.000\n",
       "L3.pa         -0.238924         0.046469           -5.142           0.000\n",
       "=========================================================================\n",
       "\n",
       "Correlation matrix of residuals\n",
       "            pcu        pa\n",
       "pcu    1.000000  0.691321\n",
       "pa     0.691321  1.000000\n",
       "\n"
      ]
     },
     "execution_count": 21,
     "metadata": {},
     "output_type": "execute_result"
    }
   ],
   "source": [
    "results = model1.fit(maxlags=20, ic='bic')\n",
    "results.summary()"
   ]
  },
  {
   "cell_type": "markdown",
   "metadata": {},
   "source": [
    "To estimate a VECM you need to provide arguments for both the underlying data and also the number of lags. Since a VECM is an augmented VAR in first differences, you will take the numbner of lags you found in the prior step and subtract 1."
   ]
  },
  {
   "cell_type": "code",
   "execution_count": 22,
   "metadata": {},
   "outputs": [
    {
     "data": {
      "text/html": [
       "<table class=\"simpletable\">\n",
       "<caption>Det. terms outside the coint. relation & lagged endog. parameters for equation pcu</caption>\n",
       "<tr>\n",
       "     <td></td>       <th>coef</th>     <th>std err</th>      <th>z</th>      <th>P>|z|</th>  <th>[0.025</th>    <th>0.975]</th>  \n",
       "</tr>\n",
       "<tr>\n",
       "  <th>L1.pcu</th> <td>    0.3867</td> <td>    0.046</td> <td>    8.351</td> <td> 0.000</td> <td>    0.296</td> <td>    0.477</td>\n",
       "</tr>\n",
       "<tr>\n",
       "  <th>L1.pa</th>  <td>    0.0624</td> <td>    0.015</td> <td>    4.300</td> <td> 0.000</td> <td>    0.034</td> <td>    0.091</td>\n",
       "</tr>\n",
       "<tr>\n",
       "  <th>L2.pcu</th> <td>   -0.1528</td> <td>    0.045</td> <td>   -3.363</td> <td> 0.001</td> <td>   -0.242</td> <td>   -0.064</td>\n",
       "</tr>\n",
       "<tr>\n",
       "  <th>L2.pa</th>  <td>    0.0147</td> <td>    0.015</td> <td>    1.003</td> <td> 0.316</td> <td>   -0.014</td> <td>    0.043</td>\n",
       "</tr>\n",
       "</table>\n",
       "<table class=\"simpletable\">\n",
       "<caption>Det. terms outside the coint. relation & lagged endog. parameters for equation pa</caption>\n",
       "<tr>\n",
       "     <td></td>       <th>coef</th>     <th>std err</th>      <th>z</th>      <th>P>|z|</th>  <th>[0.025</th>    <th>0.975]</th>  \n",
       "</tr>\n",
       "<tr>\n",
       "  <th>L1.pcu</th> <td>    0.2964</td> <td>    0.147</td> <td>    2.022</td> <td> 0.043</td> <td>    0.009</td> <td>    0.584</td>\n",
       "</tr>\n",
       "<tr>\n",
       "  <th>L1.pa</th>  <td>    0.3155</td> <td>    0.046</td> <td>    6.865</td> <td> 0.000</td> <td>    0.225</td> <td>    0.406</td>\n",
       "</tr>\n",
       "<tr>\n",
       "  <th>L2.pcu</th> <td>   -0.5077</td> <td>    0.144</td> <td>   -3.531</td> <td> 0.000</td> <td>   -0.790</td> <td>   -0.226</td>\n",
       "</tr>\n",
       "<tr>\n",
       "  <th>L2.pa</th>  <td>    0.2279</td> <td>    0.046</td> <td>    4.914</td> <td> 0.000</td> <td>    0.137</td> <td>    0.319</td>\n",
       "</tr>\n",
       "</table>\n",
       "<table class=\"simpletable\">\n",
       "<caption>Loading coefficients (alpha) for equation pcu</caption>\n",
       "<tr>\n",
       "   <td></td>      <th>coef</th>     <th>std err</th>      <th>z</th>      <th>P>|z|</th>  <th>[0.025</th>    <th>0.975]</th>  \n",
       "</tr>\n",
       "<tr>\n",
       "  <th>ec1</th> <td>   -0.0037</td> <td>    0.000</td> <td>  -11.760</td> <td> 0.000</td> <td>   -0.004</td> <td>   -0.003</td>\n",
       "</tr>\n",
       "</table>\n",
       "<table class=\"simpletable\">\n",
       "<caption>Loading coefficients (alpha) for equation pa</caption>\n",
       "<tr>\n",
       "   <td></td>      <th>coef</th>     <th>std err</th>      <th>z</th>      <th>P>|z|</th>  <th>[0.025</th>    <th>0.975]</th>  \n",
       "</tr>\n",
       "<tr>\n",
       "  <th>ec1</th> <td>   -0.0024</td> <td>    0.001</td> <td>   -2.412</td> <td> 0.016</td> <td>   -0.004</td> <td>   -0.000</td>\n",
       "</tr>\n",
       "</table>\n",
       "<table class=\"simpletable\">\n",
       "<caption>Cointegration relations for loading-coefficients-column 1</caption>\n",
       "<tr>\n",
       "     <td></td>       <th>coef</th>     <th>std err</th>      <th>z</th>      <th>P>|z|</th>  <th>[0.025</th>    <th>0.975]</th>  \n",
       "</tr>\n",
       "<tr>\n",
       "  <th>beta.1</th> <td>    1.0000</td> <td>        0</td> <td>        0</td> <td> 0.000</td> <td>    1.000</td> <td>    1.000</td>\n",
       "</tr>\n",
       "<tr>\n",
       "  <th>beta.2</th> <td>   -1.6563</td> <td>    0.033</td> <td>  -49.943</td> <td> 0.000</td> <td>   -1.721</td> <td>   -1.591</td>\n",
       "</tr>\n",
       "</table>"
      ],
      "text/plain": [
       "<class 'statsmodels.iolib.summary.Summary'>\n",
       "\"\"\"\n",
       "Det. terms outside the coint. relation & lagged endog. parameters for equation pcu\n",
       "==============================================================================\n",
       "                 coef    std err          z      P>|z|      [0.025      0.975]\n",
       "------------------------------------------------------------------------------\n",
       "L1.pcu         0.3867      0.046      8.351      0.000       0.296       0.477\n",
       "L1.pa          0.0624      0.015      4.300      0.000       0.034       0.091\n",
       "L2.pcu        -0.1528      0.045     -3.363      0.001      -0.242      -0.064\n",
       "L2.pa          0.0147      0.015      1.003      0.316      -0.014       0.043\n",
       "Det. terms outside the coint. relation & lagged endog. parameters for equation pa\n",
       "==============================================================================\n",
       "                 coef    std err          z      P>|z|      [0.025      0.975]\n",
       "------------------------------------------------------------------------------\n",
       "L1.pcu         0.2964      0.147      2.022      0.043       0.009       0.584\n",
       "L1.pa          0.3155      0.046      6.865      0.000       0.225       0.406\n",
       "L2.pcu        -0.5077      0.144     -3.531      0.000      -0.790      -0.226\n",
       "L2.pa          0.2279      0.046      4.914      0.000       0.137       0.319\n",
       "                Loading coefficients (alpha) for equation pcu                 \n",
       "==============================================================================\n",
       "                 coef    std err          z      P>|z|      [0.025      0.975]\n",
       "------------------------------------------------------------------------------\n",
       "ec1           -0.0037      0.000    -11.760      0.000      -0.004      -0.003\n",
       "                 Loading coefficients (alpha) for equation pa                 \n",
       "==============================================================================\n",
       "                 coef    std err          z      P>|z|      [0.025      0.975]\n",
       "------------------------------------------------------------------------------\n",
       "ec1           -0.0024      0.001     -2.412      0.016      -0.004      -0.000\n",
       "          Cointegration relations for loading-coefficients-column 1           \n",
       "==============================================================================\n",
       "                 coef    std err          z      P>|z|      [0.025      0.975]\n",
       "------------------------------------------------------------------------------\n",
       "beta.1         1.0000          0          0      0.000       1.000       1.000\n",
       "beta.2        -1.6563      0.033    -49.943      0.000      -1.721      -1.591\n",
       "==============================================================================\n",
       "\"\"\""
      ]
     },
     "execution_count": 22,
     "metadata": {},
     "output_type": "execute_result"
    }
   ],
   "source": [
    "model = VECM(df, k_ar_diff=2)\n",
    "results = model.fit()\n",
    "results.summary()"
   ]
  },
  {
   "cell_type": "code",
   "execution_count": 23,
   "metadata": {},
   "outputs": [],
   "source": [
    "vecmf=results.predict(24)"
   ]
  },
  {
   "cell_type": "code",
   "execution_count": 24,
   "metadata": {},
   "outputs": [
    {
     "data": {
      "image/png": "[encoded data removed]",
      "text/plain": [
       "<Figure size 720x720 with 2 Axes>"
      ]
     },
     "metadata": {},
     "output_type": "display_data"
    }
   ],
   "source": [
    "results.plot_forecast(24)"
   ]
  },
  {
   "cell_type": "code",
   "execution_count": 25,
   "metadata": {},
   "outputs": [],
   "source": [
    "vecmf= pd.DataFrame(vecmf, columns=['CPI', 'PPI'])"
   ]
  },
  {
   "cell_type": "code",
   "execution_count": 26,
   "metadata": {},
   "outputs": [
    {
     "data": {
      "text/html": [
       "<div>\n",
       "<style scoped>\n",
       "    .dataframe tbody tr th:only-of-type {\n",
       "        vertical-align: middle;\n",
       "    }\n",
       "\n",
       "    .dataframe tbody tr th {\n",
       "        vertical-align: top;\n",
       "    }\n",
       "\n",
       "    .dataframe thead th {\n",
       "        text-align: right;\n",
       "    }\n",
       "</style>\n",
       "<table border=\"1\" class=\"dataframe\">\n",
       "  <thead>\n",
       "    <tr style=\"text-align: right;\">\n",
       "      <th></th>\n",
       "      <th>CPI</th>\n",
       "      <th>PPI</th>\n",
       "    </tr>\n",
       "  </thead>\n",
       "  <tbody>\n",
       "    <tr>\n",
       "      <th>0</th>\n",
       "      <td>252.911745</td>\n",
       "      <td>200.655478</td>\n",
       "    </tr>\n",
       "    <tr>\n",
       "      <th>1</th>\n",
       "      <td>253.121536</td>\n",
       "      <td>199.929676</td>\n",
       "    </tr>\n",
       "    <tr>\n",
       "      <th>2</th>\n",
       "      <td>253.431516</td>\n",
       "      <td>199.741863</td>\n",
       "    </tr>\n",
       "    <tr>\n",
       "      <th>3</th>\n",
       "      <td>253.786656</td>\n",
       "      <td>199.690642</td>\n",
       "    </tr>\n",
       "    <tr>\n",
       "      <th>4</th>\n",
       "      <td>254.158739</td>\n",
       "      <td>199.766566</td>\n",
       "    </tr>\n",
       "    <tr>\n",
       "      <th>5</th>\n",
       "      <td>254.539497</td>\n",
       "      <td>199.895223</td>\n",
       "    </tr>\n",
       "    <tr>\n",
       "      <th>6</th>\n",
       "      <td>254.925554</td>\n",
       "      <td>200.063052</td>\n",
       "    </tr>\n",
       "    <tr>\n",
       "      <th>7</th>\n",
       "      <td>255.315151</td>\n",
       "      <td>200.252160</td>\n",
       "    </tr>\n",
       "    <tr>\n",
       "      <th>8</th>\n",
       "      <td>255.706925</td>\n",
       "      <td>200.455081</td>\n",
       "    </tr>\n",
       "    <tr>\n",
       "      <th>9</th>\n",
       "      <td>256.099968</td>\n",
       "      <td>200.665922</td>\n",
       "    </tr>\n",
       "    <tr>\n",
       "      <th>10</th>\n",
       "      <td>256.493701</td>\n",
       "      <td>200.881572</td>\n",
       "    </tr>\n",
       "    <tr>\n",
       "      <th>11</th>\n",
       "      <td>256.887787</td>\n",
       "      <td>201.100017</td>\n",
       "    </tr>\n",
       "    <tr>\n",
       "      <th>12</th>\n",
       "      <td>257.282029</td>\n",
       "      <td>201.320116</td>\n",
       "    </tr>\n",
       "    <tr>\n",
       "      <th>13</th>\n",
       "      <td>257.676309</td>\n",
       "      <td>201.541167</td>\n",
       "    </tr>\n",
       "    <tr>\n",
       "      <th>14</th>\n",
       "      <td>258.070560</td>\n",
       "      <td>201.762760</td>\n",
       "    </tr>\n",
       "    <tr>\n",
       "      <th>15</th>\n",
       "      <td>258.464739</td>\n",
       "      <td>201.984646</td>\n",
       "    </tr>\n",
       "    <tr>\n",
       "      <th>16</th>\n",
       "      <td>258.858821</td>\n",
       "      <td>202.206678</td>\n",
       "    </tr>\n",
       "    <tr>\n",
       "      <th>17</th>\n",
       "      <td>259.252792</td>\n",
       "      <td>202.428765</td>\n",
       "    </tr>\n",
       "    <tr>\n",
       "      <th>18</th>\n",
       "      <td>259.646642</td>\n",
       "      <td>202.650856</td>\n",
       "    </tr>\n",
       "    <tr>\n",
       "      <th>19</th>\n",
       "      <td>260.040366</td>\n",
       "      <td>202.872918</td>\n",
       "    </tr>\n",
       "    <tr>\n",
       "      <th>20</th>\n",
       "      <td>260.433961</td>\n",
       "      <td>203.094934</td>\n",
       "    </tr>\n",
       "    <tr>\n",
       "      <th>21</th>\n",
       "      <td>260.827425</td>\n",
       "      <td>203.316890</td>\n",
       "    </tr>\n",
       "    <tr>\n",
       "      <th>22</th>\n",
       "      <td>261.220758</td>\n",
       "      <td>203.538782</td>\n",
       "    </tr>\n",
       "    <tr>\n",
       "      <th>23</th>\n",
       "      <td>261.613957</td>\n",
       "      <td>203.760604</td>\n",
       "    </tr>\n",
       "  </tbody>\n",
       "</table>\n",
       "</div>"
      ],
      "text/plain": [
       "           CPI         PPI\n",
       "0   252.911745  200.655478\n",
       "1   253.121536  199.929676\n",
       "2   253.431516  199.741863\n",
       "3   253.786656  199.690642\n",
       "4   254.158739  199.766566\n",
       "5   254.539497  199.895223\n",
       "6   254.925554  200.063052\n",
       "7   255.315151  200.252160\n",
       "8   255.706925  200.455081\n",
       "9   256.099968  200.665922\n",
       "10  256.493701  200.881572\n",
       "11  256.887787  201.100017\n",
       "12  257.282029  201.320116\n",
       "13  257.676309  201.541167\n",
       "14  258.070560  201.762760\n",
       "15  258.464739  201.984646\n",
       "16  258.858821  202.206678\n",
       "17  259.252792  202.428765\n",
       "18  259.646642  202.650856\n",
       "19  260.040366  202.872918\n",
       "20  260.433961  203.094934\n",
       "21  260.827425  203.316890\n",
       "22  261.220758  203.538782\n",
       "23  261.613957  203.760604"
      ]
     },
     "execution_count": 26,
     "metadata": {},
     "output_type": "execute_result"
    }
   ],
   "source": [
    "vecmf"
   ]
  },
  {
   "cell_type": "markdown",
   "metadata": {},
   "source": [
    "If you wanted to take the monthly forecasts and transform them into annualized inflation numbers, it is easiet enough!"
   ]
  },
  {
   "cell_type": "code",
   "execution_count": 27,
   "metadata": {},
   "outputs": [],
   "source": [
    "vecmf_inf = np.log(vecmf).diff(12).dropna()"
   ]
  },
  {
   "cell_type": "code",
   "execution_count": 28,
   "metadata": {},
   "outputs": [
    {
     "data": {
      "text/html": [
       "<div>\n",
       "<style scoped>\n",
       "    .dataframe tbody tr th:only-of-type {\n",
       "        vertical-align: middle;\n",
       "    }\n",
       "\n",
       "    .dataframe tbody tr th {\n",
       "        vertical-align: top;\n",
       "    }\n",
       "\n",
       "    .dataframe thead th {\n",
       "        text-align: right;\n",
       "    }\n",
       "</style>\n",
       "<table border=\"1\" class=\"dataframe\">\n",
       "  <thead>\n",
       "    <tr style=\"text-align: right;\">\n",
       "      <th></th>\n",
       "      <th>CPI</th>\n",
       "      <th>PPI</th>\n",
       "    </tr>\n",
       "  </thead>\n",
       "  <tbody>\n",
       "    <tr>\n",
       "      <th>12</th>\n",
       "      <td>1.713228</td>\n",
       "      <td>0.330686</td>\n",
       "    </tr>\n",
       "    <tr>\n",
       "      <th>13</th>\n",
       "      <td>1.783443</td>\n",
       "      <td>0.802798</td>\n",
       "    </tr>\n",
       "    <tr>\n",
       "      <th>14</th>\n",
       "      <td>1.813940</td>\n",
       "      <td>1.006670</td>\n",
       "    </tr>\n",
       "    <tr>\n",
       "      <th>15</th>\n",
       "      <td>1.826530</td>\n",
       "      <td>1.142231</td>\n",
       "    </tr>\n",
       "    <tr>\n",
       "      <th>16</th>\n",
       "      <td>1.832379</td>\n",
       "      <td>1.214082</td>\n",
       "    </tr>\n",
       "    <tr>\n",
       "      <th>17</th>\n",
       "      <td>1.834760</td>\n",
       "      <td>1.259470</td>\n",
       "    </tr>\n",
       "    <tr>\n",
       "      <th>18</th>\n",
       "      <td>1.835008</td>\n",
       "      <td>1.285200</td>\n",
       "    </tr>\n",
       "    <tr>\n",
       "      <th>19</th>\n",
       "      <td>1.833820</td>\n",
       "      <td>1.300239</td>\n",
       "    </tr>\n",
       "    <tr>\n",
       "      <th>20</th>\n",
       "      <td>1.831735</td>\n",
       "      <td>1.308334</td>\n",
       "    </tr>\n",
       "    <tr>\n",
       "      <th>21</th>\n",
       "      <td>1.829112</td>\n",
       "      <td>1.312436</td>\n",
       "    </tr>\n",
       "    <tr>\n",
       "      <th>22</th>\n",
       "      <td>1.826176</td>\n",
       "      <td>1.314102</td>\n",
       "    </tr>\n",
       "    <tr>\n",
       "      <th>23</th>\n",
       "      <td>1.823061</td>\n",
       "      <td>1.314341</td>\n",
       "    </tr>\n",
       "  </tbody>\n",
       "</table>\n",
       "</div>"
      ],
      "text/plain": [
       "         CPI       PPI\n",
       "12  1.713228  0.330686\n",
       "13  1.783443  0.802798\n",
       "14  1.813940  1.006670\n",
       "15  1.826530  1.142231\n",
       "16  1.832379  1.214082\n",
       "17  1.834760  1.259470\n",
       "18  1.835008  1.285200\n",
       "19  1.833820  1.300239\n",
       "20  1.831735  1.308334\n",
       "21  1.829112  1.312436\n",
       "22  1.826176  1.314102\n",
       "23  1.823061  1.314341"
      ]
     },
     "execution_count": 28,
     "metadata": {},
     "output_type": "execute_result"
    }
   ],
   "source": [
    "vecmf_inf*100"
   ]
  },
  {
   "cell_type": "code",
   "execution_count": null,
   "metadata": {
    "collapsed": true
   },
   "outputs": [],
   "source": []
  }
 ],
 "metadata": {
  "kernelspec": {
   "display_name": "Python 3",
   "language": "python",
   "name": "python3"
  },
  "language_info": {
   "codemirror_mode": {
    "name": "ipython",
    "version": 3
   },
   "file_extension": ".py",
   "mimetype": "text/x-python",
   "name": "python",
   "nbconvert_exporter": "python",
   "pygments_lexer": "ipython3",
   "version": "3.6.5"
  }
 },
 "nbformat": 4,
 "nbformat_minor": 2
}
