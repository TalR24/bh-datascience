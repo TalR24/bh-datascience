{
 "cells": [
  {
   "cell_type": "markdown",
   "metadata": {},
   "source": [
    "## An introduction to time-series models "
   ]
  },
  {
   "cell_type": "markdown",
   "metadata": {},
   "source": [
    "This exercise will introduce you to the concepts of time series data, data transformations, and autocorrelation."
   ]
  },
  {
   "cell_type": "code",
   "execution_count": null,
   "metadata": {
    "collapsed": true
   },
   "outputs": [],
   "source": [
    "## Import necessary packages. It often makes sense to import all necessary packages in one cell\n",
    "\n",
    "Haver.path('c:\\DLX\\dat')\n",
    "import Haver"
   ]
  },
  {
   "cell_type": "code",
   "execution_count": null,
   "metadata": {
    "collapsed": true
   },
   "outputs": [],
   "source": [
    "import numpy as np\n",
    "import pandas as pd\n",
    "import matplotlib.pyplot as plt\n",
    "from statsmodels.tsa.arima_model import ARIMA\n",
    "from statsmodels.tsa.stattools import acf, pacf\n",
    "from statsmodels.graphics.tsaplots import plot_acf\n",
    "from statsmodels.stats.diagnostic import acorr_ljungbox as lb"
   ]
  },
  {
   "cell_type": "code",
   "execution_count": null,
   "metadata": {
    "collapsed": true
   },
   "outputs": [],
   "source": [
    "## Import some data from the Haver us1plus database\n",
    "## It is important to set the \"dates\" arguemtn to true for pandas\n",
    "## It will bring the data in with the correct data structure.\n",
    "\n",
    "rgdp=Haver.data(['gdph'], 'us1plus', dates=True)"
   ]
  },
  {
   "cell_type": "code",
   "execution_count": null,
   "metadata": {
    "collapsed": true
   },
   "outputs": [],
   "source": [
    "## We can check the data and data type\n",
    "\n",
    "print (rgdp.head())"
   ]
  },
  {
   "cell_type": "code",
   "execution_count": null,
   "metadata": {
    "collapsed": true
   },
   "outputs": [],
   "source": [
    "print (rgdp.dtypes)"
   ]
  },
  {
   "cell_type": "code",
   "execution_count": null,
   "metadata": {
    "collapsed": true
   },
   "outputs": [],
   "source": [
    "## It is always a good first step to look at your data. This can help\n",
    "## catch any data errors, but also help you understand the data and any\n",
    "## trends or cycles that may be present.\n",
    "\n",
    "plt.plot(rgdp)"
   ]
  },
  {
   "cell_type": "code",
   "execution_count": null,
   "metadata": {
    "collapsed": true
   },
   "outputs": [],
   "source": [
    "## Plot the correlogram up to 50 lags to look at the autocorrelations\n",
    "\n",
    "plot_acf(rgdp, lags=50)"
   ]
  },
  {
   "cell_type": "code",
   "execution_count": null,
   "metadata": {
    "collapsed": true
   },
   "outputs": [],
   "source": [
    "## The Ljung-Box test will check for serial correlation up to lag x. Null: No serial correlation Alt: Serial correlation\n",
    "\n",
    "lb(rgdp, lags=25, boxpierce=False)"
   ]
  },
  {
   "cell_type": "code",
   "execution_count": null,
   "metadata": {
    "collapsed": true
   },
   "outputs": [],
   "source": [
    "## Take the natural log of the data. Why might we want to do this?\n",
    "\n",
    "lrgdp=np.log(rgdp)\n",
    "\n",
    "plt.plot(lrgdp)\n",
    "\n",
    "plot_acf(lrgdp, lags=50)"
   ]
  },
  {
   "cell_type": "code",
   "execution_count": null,
   "metadata": {
    "collapsed": true
   },
   "outputs": [],
   "source": [
    "## Take the difference of the logs and look at the ACF.\n",
    "\n",
    "dlrgdp=lrgdp-lrgdp.shift()\n",
    "\n",
    "plt.plot(dlrgdp)\n",
    "\n",
    "plot_acf(dlrgdp [1:], lags=50)"
   ]
  },
  {
   "cell_type": "code",
   "execution_count": null,
   "metadata": {
    "collapsed": true
   },
   "outputs": [],
   "source": [
    "lb(dlrgdp [1:], lags=25, boxpierce=False)"
   ]
  },
  {
   "cell_type": "code",
   "execution_count": null,
   "metadata": {
    "collapsed": true
   },
   "outputs": [],
   "source": [
    "## Lets estimate an AR(1) model for real GDP\n",
    "\n",
    "model = ARIMA(lrgdp, order=(1, 1, 0)) "
   ]
  },
  {
   "cell_type": "code",
   "execution_count": null,
   "metadata": {
    "collapsed": true
   },
   "outputs": [],
   "source": [
    "## Look at the regression summary. \n",
    "\n",
    "results_AR = model.fit(disp=-1)\n",
    "print(results_AR.summary())"
   ]
  },
  {
   "cell_type": "code",
   "execution_count": null,
   "metadata": {
    "collapsed": true
   },
   "outputs": [],
   "source": [
    "## We can plot the actual series (dlog of real GDP) against the fitted\n",
    "\n",
    "plt.plot(dlrgdp)\n",
    "plt.plot(results_AR.fittedvalues, color='red')"
   ]
  }
 ],
 "metadata": {
  "kernelspec": {
   "display_name": "Python 3",
   "language": "python",
   "name": "python3"
  },
  "language_info": {
   "codemirror_mode": {
    "name": "ipython",
    "version": 3
   },
   "file_extension": ".py",
   "mimetype": "text/x-python",
   "name": "python",
   "nbconvert_exporter": "python",
   "pygments_lexer": "ipython3",
   "version": "3.6.5"
  }
 },
 "nbformat": 4,
 "nbformat_minor": 2
}
