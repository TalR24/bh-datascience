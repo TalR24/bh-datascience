{
 "cells": [
  {
   "cell_type": "markdown",
   "metadata": {},
   "source": [
    "## Introduction to Time-Series Data\n",
    "\n",
    "This exercise will introduce you to time-series data. We will simulate various stochastic processes to better understand what \n",
    "we are up against we begin to model time-series data using autoregressive models. "
   ]
  },
  {
   "cell_type": "code",
   "execution_count": null,
   "metadata": {},
   "outputs": [],
   "source": [
    "import os\n",
    "import sys\n",
    "import pandas as pd\n",
    "import numpy as np\n",
    "import statsmodels.formula.api as smf\n",
    "import statsmodels.tsa.api as smt\n",
    "import statsmodels.api as sm\n",
    "import scipy.stats as scs\n",
    "import matplotlib.pyplot as plt\n",
    "import matplotlib as mpl\n",
    "%matplotlib inline\n",
    "p = print"
   ]
  },
  {
   "cell_type": "markdown",
   "metadata": {},
   "source": [
    "The following code is just going to define a template for us to plot our time-series simulations. "
   ]
  },
  {
   "cell_type": "code",
   "execution_count": null,
   "metadata": {
    "collapsed": true
   },
   "outputs": [],
   "source": [
    "def tsplot(y, lags=None, figsize=(10, 8), style='seaborn'):\n",
    "    if not isinstance(y, pd.Series):\n",
    "        y = pd.Series(y)\n",
    "    with plt.style.context(style):    \n",
    "        fig = plt.figure(figsize=figsize)\n",
    "        #mpl.rcParams['font.family'] = 'Ubuntu Mono'\n",
    "        layout = (3, 2)\n",
    "        ts_ax = plt.subplot2grid(layout, (0, 0), colspan=2)\n",
    "        acf_ax = plt.subplot2grid(layout, (1, 0))\n",
    "        pacf_ax = plt.subplot2grid(layout, (1, 1))\n",
    "        qq_ax = plt.subplot2grid(layout, (2, 0))\n",
    "        pp_ax = plt.subplot2grid(layout, (2, 1))\n",
    "        \n",
    "        y.plot(ax=ts_ax)\n",
    "        ts_ax.set_title('Time Series Analysis Plots')\n",
    "        smt.graphics.plot_acf(y, lags=lags, ax=acf_ax, alpha=0.5)\n",
    "        smt.graphics.plot_pacf(y, lags=lags, ax=pacf_ax, alpha=0.5)\n",
    "        sm.qqplot(y, line='s', ax=qq_ax)\n",
    "        qq_ax.set_title('QQ Plot')        \n",
    "        scs.probplot(y, sparams=(y.mean(), y.std()), plot=pp_ax)\n",
    "\n",
    "        plt.tight_layout()\n",
    "    return "
   ]
  },
  {
   "cell_type": "code",
   "execution_count": null,
   "metadata": {},
   "outputs": [],
   "source": [
    "np.random.seed(1)\n",
    "\n",
    "# plot of discrete white noise\n",
    "randser = np.random.normal(size=1000)\n",
    "tsplot(randser, lags=30)"
   ]
  },
  {
   "cell_type": "code",
   "execution_count": null,
   "metadata": {},
   "outputs": [],
   "source": [
    "# simulate linear trend\n",
    "# example Firm ABC sales are -$50 by default and +$25 at every time step\n",
    "\n",
    "w = np.random.randn(100)\n",
    "y = np.empty_like(w)\n",
    "\n",
    "b0 = -50.\n",
    "b1 = 25.\n",
    "for t in range(len(w)):\n",
    "    y[t] = b0 + b1*t + w[t]\n",
    "    \n",
    "_ = tsplot(y, lags=30) "
   ]
  },
  {
   "cell_type": "code",
   "execution_count": null,
   "metadata": {},
   "outputs": [],
   "source": [
    "# Random Walk without a drift\n",
    "\n",
    "np.random.seed(1)\n",
    "n_samples = 1000\n",
    "\n",
    "x = w = np.random.normal(size=n_samples)\n",
    "for t in range(n_samples):\n",
    "    x[t] = x[t-1] + w[t]\n",
    "\n",
    "_ = tsplot(x, lags=30)"
   ]
  },
  {
   "cell_type": "code",
   "execution_count": null,
   "metadata": {},
   "outputs": [],
   "source": [
    "_ = tsplot(np.diff(x), lags=30)"
   ]
  },
  {
   "cell_type": "code",
   "execution_count": null,
   "metadata": {},
   "outputs": [],
   "source": [
    "# Simulate an AR(1) process with alpha = 0.6\n",
    "\n",
    "np.random.seed(1)\n",
    "n_samples = int(1000)\n",
    "a = 0.6\n",
    "x = w = np.random.normal(size=n_samples)\n",
    "\n",
    "for t in range(n_samples):\n",
    "    x[t] = a*x[t-1] + w[t]\n",
    "    \n",
    "_ = tsplot(x, lags=30)"
   ]
  },
  {
   "cell_type": "code",
   "execution_count": null,
   "metadata": {},
   "outputs": [],
   "source": [
    "# Simulate an MA(1) process\n",
    "\n",
    "n = int(1000)\n",
    "\n",
    "# set the AR(p) alphas equal to 0\n",
    "alphas = np.array([0.])\n",
    "betas = np.array([0.6])\n",
    "\n",
    "# add zero-lag and negate alphas\n",
    "ar = np.r_[1, -alphas]\n",
    "ma = np.r_[1, betas]\n",
    "\n",
    "ma1 = smt.arma_generate_sample(ar=ar, ma=ma, nsample=n) \n",
    "_ = tsplot(ma1, lags=30)"
   ]
  },
  {
   "cell_type": "code",
   "execution_count": null,
   "metadata": {
    "collapsed": true
   },
   "outputs": [],
   "source": []
  }
 ],
 "metadata": {
  "kernelspec": {
   "display_name": "Python 3",
   "language": "python",
   "name": "python3"
  },
  "language_info": {
   "codemirror_mode": {
    "name": "ipython",
    "version": 3
   },
   "file_extension": ".py",
   "mimetype": "text/x-python",
   "name": "python",
   "nbconvert_exporter": "python",
   "pygments_lexer": "ipython3",
   "version": "3.6.5"
  }
 },
 "nbformat": 4,
 "nbformat_minor": 2
}
